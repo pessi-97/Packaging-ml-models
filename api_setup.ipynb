{
 "cells": [
  {
   "cell_type": "markdown",
   "id": "50734ca9-b20c-4b43-824f-dbfd3936eeea",
   "metadata": {},
   "source": [
    "Step 3 - Setting up an API (Flask or FastAI) to serve the model in production "
   ]
  },
  {
   "cell_type": "code",
   "execution_count": null,
   "id": "a1bfcad0-603c-4b75-b29b-3d3891fc4204",
   "metadata": {},
   "outputs": [],
   "source": [
    "from flask import Flask, request, jsonify\n",
    "import joblib\n",
    "import numpy as np\n",
    "\n",
    "app = Flask(__name__)\n",
    "\n",
    "#load the model\n",
    "model = joblib.load('rf_model.pkl')\n",
    "\n",
    "#define a route for making predictions \n",
    "@app.route('/predict', methods = ['POST'])\n",
    "def predict():\n",
    "    data = request.get_json()\n",
    "    input_data = np.array(data['input']).reshape(1, -1)\n",
    "    prediction = model.predict(input_data)\n",
    "    return jsonify({'prediction': int (prediction[0])})\n",
    "\n",
    "if __name__ == '__main__':\n",
    "    app.run(debug = True)"
   ]
  }
 ],
 "metadata": {
  "kernelspec": {
   "display_name": "Python 3 (ipykernel)",
   "language": "python",
   "name": "python3"
  },
  "language_info": {
   "codemirror_mode": {
    "name": "ipython",
    "version": 3
   },
   "file_extension": ".py",
   "mimetype": "text/x-python",
   "name": "python",
   "nbconvert_exporter": "python",
   "pygments_lexer": "ipython3",
   "version": "3.12.4"
  }
 },
 "nbformat": 4,
 "nbformat_minor": 5
}
