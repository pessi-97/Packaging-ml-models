{
 "cells": [
  {
   "cell_type": "markdown",
   "id": "e985d689-8212-4463-9761-1aa0da4142ec",
   "metadata": {},
   "source": [
    "Step 1 - Export/Save the saved model"
   ]
  },
  {
   "cell_type": "code",
   "execution_count": null,
   "id": "a72dac9f-2366-4a72-b671-2a3052ba2959",
   "metadata": {},
   "outputs": [],
   "source": [
    "from sklearn.ensemble import RandomForestClassifier\n",
    "from sklearn.datasets import load_iris\n",
    "from sklearn.model_selection import train_test_split\n",
    "import joblib #for parallel processing, sped up calculations on large datasets\n",
    "\n",
    "#load dataset\n",
    "iris = load_iris()\n",
    "x_train, x_test, y_train, y_test = train_test_split(iris.data, iris.target, test_size = 0.3)\n",
    "\n",
    "#train model\n",
    "model = RandomForestClassifier()\n",
    "model.fit(x_train, y_train)"
   ]
  },
  {
   "cell_type": "code",
   "execution_count": null,
   "id": "4ce3fb73-04ec-4740-82d1-de33465e95ce",
   "metadata": {},
   "outputs": [],
   "source": [
    "#save the model\n",
    "joblib.dump(model, 'rf_model.pkl')"
   ]
  },
  {
   "cell_type": "markdown",
   "id": "cfb7a200-2925-4ac4-80b2-2cc9b93d0182",
   "metadata": {},
   "source": [
    "Step 2 - Writing a wrapper function to load the model (wrapper functions are used to extend the behavior of a function without modifying the source code. This wrapper will be exposed through an API)"
   ]
  },
  {
   "cell_type": "code",
   "execution_count": null,
   "id": "620ac886-4373-4aef-b1ae-3cf6fd7c0539",
   "metadata": {},
   "outputs": [],
   "source": [
    "#fucntion to load the saved model\n",
    "def load_model():\n",
    "    model = joblib.load('rf_model.pkl')\n",
    "    return model\n",
    "\n",
    "#fucntion to make predictions\n",
    "def predict(input_data):\n",
    "    model = load_model()\n",
    "    prediction = model.predict(input_data)\n",
    "    return preddiciton"
   ]
  }
 ],
 "metadata": {
  "kernelspec": {
   "display_name": "Python 3 (ipykernel)",
   "language": "python",
   "name": "python3"
  },
  "language_info": {
   "codemirror_mode": {
    "name": "ipython",
    "version": 3
   },
   "file_extension": ".py",
   "mimetype": "text/x-python",
   "name": "python",
   "nbconvert_exporter": "python",
   "pygments_lexer": "ipython3",
   "version": "3.12.4"
  }
 },
 "nbformat": 4,
 "nbformat_minor": 5
}
